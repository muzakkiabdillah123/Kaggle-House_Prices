{
 "cells": [
  {
   "cell_type": "code",
   "execution_count": 2,
   "metadata": {},
   "outputs": [],
   "source": [
    "# Core Modules\n",
    "import pandas as pd\n",
    "import numpy as np\n",
    "\n",
    "# Basic modules for data visualization\n",
    "import matplotlib.pyplot as plt\n",
    "import seaborn as sns \n",
    "%matplotlib inline"
   ]
  },
  {
   "cell_type": "code",
   "execution_count": 3,
   "metadata": {},
   "outputs": [],
   "source": [
    "# Load data into a pandas DataFrame from given filepath\n",
    "df_train = pd.read_csv('../../Datasets/house-prices-advanced-regression-techniques/train.csv')"
   ]
  },
  {
   "cell_type": "markdown",
   "metadata": {},
   "source": [
    "### Null Values"
   ]
  },
  {
   "cell_type": "code",
   "execution_count": 4,
   "metadata": {},
   "outputs": [
    {
     "data": {
      "text/plain": [
       "PoolQC           1453\n",
       "MiscFeature      1406\n",
       "Alley            1369\n",
       "Fence            1179\n",
       "FireplaceQu       690\n",
       "                 ... \n",
       "CentralAir          0\n",
       "SaleCondition       0\n",
       "Heating             0\n",
       "TotalBsmtSF         0\n",
       "Id                  0\n",
       "Length: 81, dtype: int64"
      ]
     },
     "execution_count": 4,
     "metadata": {},
     "output_type": "execute_result"
    }
   ],
   "source": [
    "df_train.isnull().sum().sort_values(ascending=False)"
   ]
  },
  {
   "cell_type": "code",
   "execution_count": 5,
   "metadata": {},
   "outputs": [],
   "source": [
    "# Imputing Missing Values\n",
    "\n",
    "df_train_processed = df_train\n",
    "\n",
    "# Categorical columns:\n",
    "cat_cols_fill_none = ['PoolQC', 'MiscFeature', 'Alley', 'Fence', 'FireplaceQu',\n",
    "                     'GarageCond', 'GarageQual', 'GarageFinish', 'GarageType',\n",
    "                     'BsmtFinType2', 'BsmtExposure', 'BsmtFinType1', 'BsmtQual', 'BsmtCond',\n",
    "                     'MasVnrType']\n",
    "\n",
    "# Replace missing values for categorical columns with None\n",
    "for cat in cat_cols_fill_none:\n",
    "    df_train_processed[cat] = df_train_processed[cat].fillna(\"None\")\n",
    "    \n",
    "# Group by neighborhood and fill in missing value by the median LotFrontage of all the neighborhood\n",
    "df_train_processed['LotFrontage'] = df_train_processed.groupby(\"Neighborhood\")[\"LotFrontage\"].transform(\n",
    "    lambda x: x.fillna(x.median()))    \n",
    "\n",
    "# Garage: GarageYrBlt, GarageArea and GarageCars these are numerical columns, replace with zero\n",
    "for col in ['GarageYrBlt', 'GarageArea', 'GarageCars']:\n",
    "    df_train_processed[col] = df_train_processed[col].fillna(int(0))\n",
    "    \n",
    "# MasVnrArea : replace with zero\n",
    "df_train_processed['MasVnrArea'] = df_train_processed['MasVnrArea'].fillna(int(0))\n",
    "\n",
    "# Use the mode value \n",
    "df_train_processed['Electrical'] = df_train_processed['Electrical'].fillna(df_train_processed['Electrical']).mode()[0]\n",
    "\n",
    "# There is no need of Utilities so let's just drop this column\n",
    "df_train_processed = df_train_processed.drop(['Utilities'], axis=1)"
   ]
  },
  {
   "cell_type": "code",
   "execution_count": 6,
   "metadata": {},
   "outputs": [
    {
     "data": {
      "text/plain": [
       "0"
      ]
     },
     "execution_count": 6,
     "metadata": {},
     "output_type": "execute_result"
    }
   ],
   "source": [
    "df_train_processed.isnull().apply(sum).max()"
   ]
  },
  {
   "cell_type": "markdown",
   "metadata": {},
   "source": [
    "### Outliers"
   ]
  },
  {
   "cell_type": "code",
   "execution_count": 7,
   "metadata": {},
   "outputs": [
    {
     "name": "stdout",
     "output_type": "stream",
     "text": [
      "<class 'pandas.core.frame.DataFrame'>\n",
      "Int64Index: 1421 entries, 0 to 1457\n",
      "Data columns (total 80 columns):\n",
      " #   Column         Non-Null Count  Dtype  \n",
      "---  ------         --------------  -----  \n",
      " 0   Id             1421 non-null   int64  \n",
      " 1   MSSubClass     1421 non-null   int64  \n",
      " 2   MSZoning       1421 non-null   object \n",
      " 3   LotFrontage    1421 non-null   float64\n",
      " 4   LotArea        1421 non-null   int64  \n",
      " 5   Street         1421 non-null   object \n",
      " 6   Alley          1421 non-null   object \n",
      " 7   LotShape       1421 non-null   object \n",
      " 8   LandContour    1421 non-null   object \n",
      " 9   LotConfig      1421 non-null   object \n",
      " 10  LandSlope      1421 non-null   object \n",
      " 11  Neighborhood   1421 non-null   object \n",
      " 12  Condition1     1421 non-null   object \n",
      " 13  Condition2     1421 non-null   object \n",
      " 14  BldgType       1421 non-null   object \n",
      " 15  HouseStyle     1421 non-null   object \n",
      " 16  OverallQual    1421 non-null   int64  \n",
      " 17  OverallCond    1421 non-null   int64  \n",
      " 18  YearBuilt      1421 non-null   int64  \n",
      " 19  YearRemodAdd   1421 non-null   int64  \n",
      " 20  RoofStyle      1421 non-null   object \n",
      " 21  RoofMatl       1421 non-null   object \n",
      " 22  Exterior1st    1421 non-null   object \n",
      " 23  Exterior2nd    1421 non-null   object \n",
      " 24  MasVnrType     1421 non-null   object \n",
      " 25  MasVnrArea     1421 non-null   float64\n",
      " 26  ExterQual      1421 non-null   object \n",
      " 27  ExterCond      1421 non-null   object \n",
      " 28  Foundation     1421 non-null   object \n",
      " 29  BsmtQual       1421 non-null   object \n",
      " 30  BsmtCond       1421 non-null   object \n",
      " 31  BsmtExposure   1421 non-null   object \n",
      " 32  BsmtFinType1   1421 non-null   object \n",
      " 33  BsmtFinSF1     1421 non-null   int64  \n",
      " 34  BsmtFinType2   1421 non-null   object \n",
      " 35  BsmtFinSF2     1421 non-null   int64  \n",
      " 36  BsmtUnfSF      1421 non-null   int64  \n",
      " 37  TotalBsmtSF    1421 non-null   int64  \n",
      " 38  Heating        1421 non-null   object \n",
      " 39  HeatingQC      1421 non-null   object \n",
      " 40  CentralAir     1421 non-null   object \n",
      " 41  Electrical     1421 non-null   object \n",
      " 42  1stFlrSF       1421 non-null   int64  \n",
      " 43  2ndFlrSF       1421 non-null   int64  \n",
      " 44  LowQualFinSF   1421 non-null   int64  \n",
      " 45  GrLivArea      1421 non-null   int64  \n",
      " 46  BsmtFullBath   1421 non-null   int64  \n",
      " 47  BsmtHalfBath   1421 non-null   int64  \n",
      " 48  FullBath       1421 non-null   int64  \n",
      " 49  HalfBath       1421 non-null   int64  \n",
      " 50  BedroomAbvGr   1421 non-null   int64  \n",
      " 51  KitchenAbvGr   1421 non-null   int64  \n",
      " 52  KitchenQual    1421 non-null   object \n",
      " 53  TotRmsAbvGrd   1421 non-null   int64  \n",
      " 54  Functional     1421 non-null   object \n",
      " 55  Fireplaces     1421 non-null   int64  \n",
      " 56  FireplaceQu    1421 non-null   object \n",
      " 57  GarageType     1421 non-null   object \n",
      " 58  GarageYrBlt    1421 non-null   float64\n",
      " 59  GarageFinish   1421 non-null   object \n",
      " 60  GarageCars     1421 non-null   int64  \n",
      " 61  GarageArea     1421 non-null   int64  \n",
      " 62  GarageQual     1421 non-null   object \n",
      " 63  GarageCond     1421 non-null   object \n",
      " 64  PavedDrive     1421 non-null   object \n",
      " 65  WoodDeckSF     1421 non-null   int64  \n",
      " 66  OpenPorchSF    1421 non-null   int64  \n",
      " 67  EnclosedPorch  1421 non-null   int64  \n",
      " 68  3SsnPorch      1421 non-null   int64  \n",
      " 69  ScreenPorch    1421 non-null   int64  \n",
      " 70  PoolArea       1421 non-null   int64  \n",
      " 71  PoolQC         1421 non-null   object \n",
      " 72  Fence          1421 non-null   object \n",
      " 73  MiscFeature    1421 non-null   object \n",
      " 74  MiscVal        1421 non-null   int64  \n",
      " 75  MoSold         1421 non-null   int64  \n",
      " 76  YrSold         1421 non-null   int64  \n",
      " 77  SaleType       1421 non-null   object \n",
      " 78  SaleCondition  1421 non-null   object \n",
      " 79  SalePrice      1421 non-null   int64  \n",
      "dtypes: float64(3), int64(35), object(42)\n",
      "memory usage: 939.2+ KB\n"
     ]
    }
   ],
   "source": [
    "num_attributes = df_train_processed.select_dtypes(exclude='object')\n",
    "\n",
    "high_quant = df_train_processed.quantile(.999)\n",
    "\n",
    "for i in num_attributes.columns:\n",
    "    df_train_processed = df_train_processed.drop(df_train_processed[i][df_train_processed[i]>high_quant[i]].index)\n",
    "\n",
    "df_train_processed.info()"
   ]
  },
  {
   "cell_type": "markdown",
   "metadata": {},
   "source": [
    "### Correlated Attributes"
   ]
  },
  {
   "cell_type": "code",
   "execution_count": 8,
   "metadata": {},
   "outputs": [],
   "source": [
    "attributes_drop = ['MiscVal', 'MoSold', 'YrSold', 'BsmtFinSF2','BsmtHalfBath','MSSubClass',\n",
    "                   'GarageArea', 'GarageYrBlt', '3SsnPorch']\n",
    "\n",
    "df_train_processed = df_train_processed.drop(attributes_drop, axis=1)"
   ]
  },
  {
   "cell_type": "code",
   "execution_count": 9,
   "metadata": {},
   "outputs": [
    {
     "name": "stdout",
     "output_type": "stream",
     "text": [
      "<class 'pandas.core.frame.DataFrame'>\n",
      "Int64Index: 1421 entries, 0 to 1457\n",
      "Data columns (total 71 columns):\n",
      " #   Column         Non-Null Count  Dtype  \n",
      "---  ------         --------------  -----  \n",
      " 0   Id             1421 non-null   int64  \n",
      " 1   MSZoning       1421 non-null   object \n",
      " 2   LotFrontage    1421 non-null   float64\n",
      " 3   LotArea        1421 non-null   int64  \n",
      " 4   Street         1421 non-null   object \n",
      " 5   Alley          1421 non-null   object \n",
      " 6   LotShape       1421 non-null   object \n",
      " 7   LandContour    1421 non-null   object \n",
      " 8   LotConfig      1421 non-null   object \n",
      " 9   LandSlope      1421 non-null   object \n",
      " 10  Neighborhood   1421 non-null   object \n",
      " 11  Condition1     1421 non-null   object \n",
      " 12  Condition2     1421 non-null   object \n",
      " 13  BldgType       1421 non-null   object \n",
      " 14  HouseStyle     1421 non-null   object \n",
      " 15  OverallQual    1421 non-null   int64  \n",
      " 16  OverallCond    1421 non-null   int64  \n",
      " 17  YearBuilt      1421 non-null   int64  \n",
      " 18  YearRemodAdd   1421 non-null   int64  \n",
      " 19  RoofStyle      1421 non-null   object \n",
      " 20  RoofMatl       1421 non-null   object \n",
      " 21  Exterior1st    1421 non-null   object \n",
      " 22  Exterior2nd    1421 non-null   object \n",
      " 23  MasVnrType     1421 non-null   object \n",
      " 24  MasVnrArea     1421 non-null   float64\n",
      " 25  ExterQual      1421 non-null   object \n",
      " 26  ExterCond      1421 non-null   object \n",
      " 27  Foundation     1421 non-null   object \n",
      " 28  BsmtQual       1421 non-null   object \n",
      " 29  BsmtCond       1421 non-null   object \n",
      " 30  BsmtExposure   1421 non-null   object \n",
      " 31  BsmtFinType1   1421 non-null   object \n",
      " 32  BsmtFinSF1     1421 non-null   int64  \n",
      " 33  BsmtFinType2   1421 non-null   object \n",
      " 34  BsmtUnfSF      1421 non-null   int64  \n",
      " 35  TotalBsmtSF    1421 non-null   int64  \n",
      " 36  Heating        1421 non-null   object \n",
      " 37  HeatingQC      1421 non-null   object \n",
      " 38  CentralAir     1421 non-null   object \n",
      " 39  Electrical     1421 non-null   object \n",
      " 40  1stFlrSF       1421 non-null   int64  \n",
      " 41  2ndFlrSF       1421 non-null   int64  \n",
      " 42  LowQualFinSF   1421 non-null   int64  \n",
      " 43  GrLivArea      1421 non-null   int64  \n",
      " 44  BsmtFullBath   1421 non-null   int64  \n",
      " 45  FullBath       1421 non-null   int64  \n",
      " 46  HalfBath       1421 non-null   int64  \n",
      " 47  BedroomAbvGr   1421 non-null   int64  \n",
      " 48  KitchenAbvGr   1421 non-null   int64  \n",
      " 49  KitchenQual    1421 non-null   object \n",
      " 50  TotRmsAbvGrd   1421 non-null   int64  \n",
      " 51  Functional     1421 non-null   object \n",
      " 52  Fireplaces     1421 non-null   int64  \n",
      " 53  FireplaceQu    1421 non-null   object \n",
      " 54  GarageType     1421 non-null   object \n",
      " 55  GarageFinish   1421 non-null   object \n",
      " 56  GarageCars     1421 non-null   int64  \n",
      " 57  GarageQual     1421 non-null   object \n",
      " 58  GarageCond     1421 non-null   object \n",
      " 59  PavedDrive     1421 non-null   object \n",
      " 60  WoodDeckSF     1421 non-null   int64  \n",
      " 61  OpenPorchSF    1421 non-null   int64  \n",
      " 62  EnclosedPorch  1421 non-null   int64  \n",
      " 63  ScreenPorch    1421 non-null   int64  \n",
      " 64  PoolArea       1421 non-null   int64  \n",
      " 65  PoolQC         1421 non-null   object \n",
      " 66  Fence          1421 non-null   object \n",
      " 67  MiscFeature    1421 non-null   object \n",
      " 68  SaleType       1421 non-null   object \n",
      " 69  SaleCondition  1421 non-null   object \n",
      " 70  SalePrice      1421 non-null   int64  \n",
      "dtypes: float64(2), int64(27), object(42)\n",
      "memory usage: 839.3+ KB\n"
     ]
    }
   ],
   "source": [
    "df_train_processed.info()"
   ]
  },
  {
   "cell_type": "code",
   "execution_count": 10,
   "metadata": {},
   "outputs": [],
   "source": [
    "df_train_processed.to_csv('clean_train.csv', index = False)"
   ]
  }
 ],
 "metadata": {
  "kernelspec": {
   "display_name": "Python 3.9.0 64-bit",
   "language": "python",
   "name": "python3"
  },
  "language_info": {
   "codemirror_mode": {
    "name": "ipython",
    "version": 3
   },
   "file_extension": ".py",
   "mimetype": "text/x-python",
   "name": "python",
   "nbconvert_exporter": "python",
   "pygments_lexer": "ipython3",
   "version": "3.9.0"
  },
  "orig_nbformat": 4,
  "vscode": {
   "interpreter": {
    "hash": "cf92aa13fedf815d5c8dd192b8d835913fde3e8bc926b2a0ad6cc74ef2ba3ca2"
   }
  }
 },
 "nbformat": 4,
 "nbformat_minor": 2
}
